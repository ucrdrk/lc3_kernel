{
 "cells": [
  {
   "cell_type": "code",
   "execution_count": 1,
   "id": "969b7109-38b3-4e3f-a67e-07f73a43f4bd",
   "metadata": {},
   "outputs": [
    {
     "name": "stdout",
     "output_type": "stream",
     "text": [
      "regs"
     ]
    }
   ],
   "source": [
    "regs"
   ]
  },
  {
   "cell_type": "code",
   "execution_count": 1,
   "id": "3344e66e-3597-42bd-af3a-141e57cac65e",
   "metadata": {},
   "outputs": [
    {
     "name": "stdout",
     "output_type": "stream",
     "text": [
      "R0: 0x0000 (    0)    R1: 0x0000 (    0)    R2: 0x0000 (    0)    R3: 0x0000 (    0)\n",
      "R4: 0x0000 (    0)    R5: 0x0000 (    0)    R6: 0x3000 (12288)    R7: 0x0000 (    0)\n",
      "PC: 0x0200\n",
      "PSR: 0x0002\n",
      "CC: \u0002\n",
      "MCR: 0x0000\n",
      "Executed 0 instructions"
     ]
    }
   ],
   "source": [
    "regs"
   ]
  },
  {
   "cell_type": "code",
   "execution_count": 6,
   "id": "06f4b2a1-9b24-4c3f-993d-a6f83b0ad6b3",
   "metadata": {},
   "outputs": [
    {
     "name": "stdout",
     "output_type": "stream",
     "text": [
      "0x3000: 0xE002 LEA R0, Hello_World\n",
      "0x3001: 0xF022 PUTS\n",
      "0x3002: 0xF025 HALT\n",
      "0x3003: 0x0048 H\n",
      "0x3004: 0x0065 e\n",
      "0x3005: 0x006C l\n",
      "0x3006: 0x006C l\n",
      "0x3007: 0x006F o\n",
      "0x3008: 0x002C ,\n",
      "0x3009: 0x0020  \n",
      "0x300A: 0x0041 A\n",
      "0x300B: 0x006C l\n",
      "0x300C: 0x006C l\n",
      "0x300D: 0x0061 a\n",
      "0x300E: 0x006E n\n",
      "0x300F: 0x0021 !\n",
      "0x3010: 0x000A \n",
      "\n",
      "0x3011: 0x0000 Hello_World .stringz \"Hello, Allan!\\n\"\n",
      "Executed 0 instructions"
     ]
    }
   ],
   "source": [
    "mem 0x3000 0x3011"
   ]
  },
  {
   "cell_type": "code",
   "execution_count": 5,
   "id": "0e844a49-3ec4-41c9-956c-1a3db0f90f6b",
   "metadata": {},
   "outputs": [
    {
     "name": "stdout",
     "output_type": "stream",
     "text": [
      "Executed 0 instructions"
     ]
    }
   ],
   "source": [
    "load helloworld.obj"
   ]
  },
  {
   "cell_type": "code",
   "execution_count": null,
   "id": "817b889f-ac57-4469-8a1c-c9326af1a712",
   "metadata": {},
   "outputs": [],
   "source": [
    "regs"
   ]
  },
  {
   "cell_type": "code",
   "execution_count": 1,
   "id": "87be6eb1-b234-49cc-b66e-11903a4f61a5",
   "metadata": {},
   "outputs": [
    {
     "name": "stdout",
     "output_type": "stream",
     "text": [
      "R0: 0x0000 (    0)    R1: 0x0000 (    0)    R2: 0x0000 (    0)    R3: 0x0000 (    0)\n",
      "R4: 0x0000 (    0)    R5: 0x0000 (    0)    R6: 0x3000 (12288)    R7: 0x0000 (    0)\n",
      "PC: 0x0200\n",
      "PSR: 0x0002\n",
      "CC: \u0002\n",
      "MCR: 0x0000\n",
      "Executed 0 instructions"
     ]
    }
   ],
   "source": [
    "regs"
   ]
  },
  {
   "cell_type": "code",
   "execution_count": 7,
   "id": "9166acdf-5f05-42ff-92ae-90388d4e89dd",
   "metadata": {},
   "outputs": [
    {
     "name": "stdout",
     "output_type": "stream",
     "text": [
      "    0x2FFE: 0x0000 \n",
      "    0x2FFF: 0x0000 \n",
      "--> 0x3000: 0xE002 LEA R0, HELLO_WORLD\n",
      "    0x3001: 0xF022 PUTS\n",
      "    0x3002: 0xF025 HALT\n",
      "Executed 0 instructions"
     ]
    }
   ],
   "source": [
    "list"
   ]
  },
  {
   "cell_type": "code",
   "execution_count": 7,
   "id": "f35fe0b7-9575-4152-aef0-dec1cfdca741",
   "metadata": {},
   "outputs": [
    {
     "name": "stdout",
     "output_type": "stream",
     "text": [
      "run\n",
      "\n",
      "\n",
      "--- Halting the LC-3 ---\n",
      "\n",
      "Executed 962 instructions"
     ]
    }
   ],
   "source": [
    "run"
   ]
  },
  {
   "cell_type": "code",
   "execution_count": null,
   "id": "86661dfa-96d9-49f9-8ad1-942e03ca7199",
   "metadata": {},
   "outputs": [],
   "source": []
  },
  {
   "cell_type": "code",
   "execution_count": null,
   "id": "2b84b352-0d0c-4988-8795-970be113bc73",
   "metadata": {},
   "outputs": [],
   "source": []
  },
  {
   "cell_type": "code",
   "execution_count": 8,
   "id": "ce8f49f1-ed24-401f-8ccd-e881a4c4aebc",
   "metadata": {},
   "outputs": [
    {
     "name": "stdout",
     "output_type": "stream",
     "text": [
      "breakpoints\n",
      "unknown command\n",
      "Executed 962 instructions"
     ]
    }
   ],
   "source": [
    "breakpoints"
   ]
  },
  {
   "cell_type": "code",
   "execution_count": 4,
   "id": "ccba506b-2a88-4ec8-b9c4-a4654d1aec1b",
   "metadata": {},
   "outputs": [
    {
     "name": "stdout",
     "output_type": "stream",
     "text": [
      "Hello, Ashley!\n",
      "\n",
      "\n",
      "--- Halting the LC-3 ---\n",
      "\n",
      "Executed 592 instructions"
     ]
    }
   ],
   "source": [
    "run"
   ]
  },
  {
   "cell_type": "code",
   "execution_count": 1,
   "id": "35b98455-7d6f-4b69-94af-d8b142aaf099",
   "metadata": {},
   "outputs": [
    {
     "name": "stdout",
     "output_type": "stream",
     "text": [
      "attempting to assemble /tmp/tmpmjlc2xka into /tmp/tmpmjlc2xka.obj\n",
      "assembly successful\n",
      "Executed 0 instructions"
     ]
    }
   ],
   "source": [
    ".ORIG x3000\n",
    "LEA R0, Hello_World\n",
    "PUTS\n",
    "HALT\n",
    "Hello_World .stringz \"Hello, Ashley!\\n\"\n",
    ".END"
   ]
  },
  {
   "cell_type": "code",
   "execution_count": 2,
   "id": "27d148a3-7bae-4a37-a63c-d9d79822512b",
   "metadata": {},
   "outputs": [
    {
     "name": "stdout",
     "output_type": "stream",
     "text": [
      "Hello, Ashley!\n",
      "\n",
      "\n",
      "--- Halting the LC-3 ---\n",
      "\n",
      "Executed 592 instructions"
     ]
    }
   ],
   "source": [
    "run"
   ]
  },
  {
   "cell_type": "code",
   "execution_count": 3,
   "id": "b2f3445e-7536-42c2-9b9b-8528ff187974",
   "metadata": {},
   "outputs": [
    {
     "name": "stdout",
     "output_type": "stream",
     "text": [
      "help\n",
      "break <action> [args...] - performs action (see break help for details)\n",
      "help                     - display this message\n",
      "list [N]                 - display the next instruction to be executed with N rows of context\n",
      "load <filename>          - loads an object file\n",
      "mem <start> [<end>]      - display values in memory addresses start to end\n",
      "quit                     - exit the simulator\n",
      "randomize                - randomize the memory and general purpose registers\n",
      "regs                     - display register values\n",
      "restart                  - restart program (and go to user mode)\n",
      "run [<instructions>]     - runs to end of program or, if specified, the number of instructions\n",
      "set <loc> <value>        - sets loc (either register name or memory address) to value\n",
      "step in                  - executes a single instruction\n",
      "step over                - executes a single instruction (treats subroutine calls as a single\n",
      "                           instruction)\n",
      "step out                 - steps out of a subroutine if in one\n",
      "Executed 592 instructions"
     ]
    }
   ],
   "source": [
    "help"
   ]
  },
  {
   "cell_type": "code",
   "execution_count": 4,
   "id": "473a044f-c6b4-4bca-9c12-baec361c43d0",
   "metadata": {},
   "outputs": [
    {
     "name": "stdout",
     "output_type": "stream",
     "text": [
      "Unable to quit from cell"
     ]
    }
   ],
   "source": [
    "quit"
   ]
  }
 ],
 "metadata": {
  "kernelspec": {
   "display_name": "LC-3",
   "language": "text",
   "name": "lc3"
  },
  "language_info": {
   "file_extension": ".asm",
   "mimetype": "text/plain",
   "name": "lc3"
  }
 },
 "nbformat": 4,
 "nbformat_minor": 5
}
