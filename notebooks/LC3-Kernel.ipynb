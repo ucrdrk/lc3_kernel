{
 "cells": [
  {
   "cell_type": "markdown",
   "id": "b9e53d9d",
   "metadata": {},
   "source": [
    "# LC-3 Kernel\n",
    "\n",
    "This notebook describes and gives exmaple on the LC-3 Kernel for Jupyter Notebooks. The pupose of this kernel is to allow LC-3 programmers, mostly student in CS 061 - Machine Organizationa and Assembly Language Programming in the Computer Science Department at the University of California, to explore the language in a quick and easy to use environment. It also allows students having issues with the official LC-3 Tools to do their work in a web browser.\n",
    "\n",
    "The LC-3 processor is the basis of the textbook [\"Introduction to Computing Systems: From bits and gates to C/C++ & Beyond\"](https://highered.mheducation.com/sites/0072467509/), 3rd Edition,  by Yale N. Patt and Sanjay J. Patel.\n",
    "\n",
    "In the cells below, you can enter any command that is available in the `simulator` application from the [official tools](https://github.com/chiragsakhuja/lc3tools) for the textbook mentioned above. The only command not supported is the `quit` command, for obvious reasons.\n",
    "\n",
    "To see which commands are available, type `help` in the cell below."
   ]
  },
  {
   "cell_type": "code",
   "execution_count": 2,
   "id": "969b7109-38b3-4e3f-a67e-07f73a43f4bd",
   "metadata": {
    "vscode": {
     "languageId": "lc3asm"
    }
   },
   "outputs": [
    {
     "name": "stdout",
     "output_type": "stream",
     "text": [
      "break <action> [args...] - performs action (see break help for details)\n",
      "help                     - display this message\n",
      "list [N]                 - display the next instruction to be executed with N rows of context\n",
      "load <filename>          - loads an object file\n",
      "mem <start> [<end>]      - display values in memory addresses start to end\n",
      "quit                     - exit the simulator\n",
      "randomize                - randomize the memory and general purpose registers\n",
      "regs                     - display register values\n",
      "restart                  - restart program (and go to user mode)\n",
      "run [<instructions>]     - runs to end of program or, if specified, the number of instructions\n",
      "set <loc> <value>        - sets loc (either register name or memory address) to value\n",
      "step in                  - executes a single instruction\n",
      "step over                - executes a single instruction (treats subroutine calls as a single\n",
      "                           instruction)\n",
      "step out                 - steps out of a subroutine if in one\n",
      "Executed 0 instructions"
     ]
    }
   ],
   "source": [
    "help"
   ]
  },
  {
   "cell_type": "markdown",
   "id": "6b41a252",
   "metadata": {},
   "source": [
    "## LC-3 Tools Commands\n",
    "\n",
    "As you can see from the `help` command above, we are essentially running a debugger for LC-3 Assembly from the official tools.\n",
    "\n",
    "### regs\n",
    "\n",
    "display register values"
   ]
  },
  {
   "cell_type": "code",
   "execution_count": null,
   "id": "3344e66e-3597-42bd-af3a-141e57cac65e",
   "metadata": {
    "vscode": {
     "languageId": "lc3asm"
    }
   },
   "outputs": [],
   "source": [
    "regs"
   ]
  },
  {
   "cell_type": "markdown",
   "id": "0e77033f",
   "metadata": {},
   "source": [
    "### mem\n",
    "\n",
    "`mem <start> [<end>]` -- display values in memory addresses start to end"
   ]
  },
  {
   "cell_type": "code",
   "execution_count": null,
   "id": "06f4b2a1-9b24-4c3f-993d-a6f83b0ad6b3",
   "metadata": {
    "vscode": {
     "languageId": "julia"
    }
   },
   "outputs": [],
   "source": [
    "mem 0x3000 0x3011"
   ]
  },
  {
   "cell_type": "markdown",
   "id": "87fd3459",
   "metadata": {},
   "source": [
    "### load\n",
    "\n",
    "`load <filename>` - loads an object file"
   ]
  },
  {
   "cell_type": "code",
   "execution_count": null,
   "id": "0e844a49-3ec4-41c9-956c-1a3db0f90f6b",
   "metadata": {
    "vscode": {
     "languageId": "lc3asm"
    }
   },
   "outputs": [],
   "source": [
    "load helloworld.obj"
   ]
  },
  {
   "cell_type": "markdown",
   "id": "9de42227",
   "metadata": {},
   "source": [
    "### list\n",
    "\n",
    "`list [N]` - display the next instruction to be executed with N rows of context"
   ]
  },
  {
   "cell_type": "code",
   "execution_count": null,
   "id": "9166acdf-5f05-42ff-92ae-90388d4e89dd",
   "metadata": {
    "vscode": {
     "languageId": "lc3asm"
    }
   },
   "outputs": [],
   "source": [
    "list"
   ]
  },
  {
   "cell_type": "markdown",
   "id": "13be7a79",
   "metadata": {},
   "source": [
    "### run\n",
    "\n",
    "`run [<instructions>]` - runs to end of program or, if specified, the number of instructions"
   ]
  },
  {
   "cell_type": "code",
   "execution_count": null,
   "id": "f35fe0b7-9575-4152-aef0-dec1cfdca741",
   "metadata": {
    "vscode": {
     "languageId": "lc3asm"
    }
   },
   "outputs": [],
   "source": [
    "run"
   ]
  },
  {
   "cell_type": "markdown",
   "id": "36c55871",
   "metadata": {},
   "source": [
    "## Coding directly in cells\n",
    "\n",
    "You can also write LC-3 Assembly direcly in code as a single `.ORIG/.END` block. The kernel will recognize any cell that starts with `.ORIG` and ends with `.END` and treats it as a code block. The kernel then compiles and loads the object file at the address specified by `.ORIG`.\n",
    "\n",
    "Try it yourself. For the code in the cell below, press `ctrl-enter` to execute the cell. You can then run the code in the cell below it."
   ]
  },
  {
   "cell_type": "code",
   "execution_count": null,
   "id": "35b98455-7d6f-4b69-94af-d8b142aaf099",
   "metadata": {
    "vscode": {
     "languageId": "lc3asm"
    }
   },
   "outputs": [],
   "source": [
    ".ORIG x3000\n",
    "LEA R0, Hello_World\n",
    "PUTS\n",
    "HALT\n",
    "Hello_World .stringz \"Hello, Ruby!\\n\"\n",
    ".END"
   ]
  },
  {
   "cell_type": "code",
   "execution_count": null,
   "id": "27d148a3-7bae-4a37-a63c-d9d79822512b",
   "metadata": {
    "vscode": {
     "languageId": "lc3asm"
    }
   },
   "outputs": [],
   "source": [
    "run"
   ]
  },
  {
   "cell_type": "markdown",
   "id": "150f28eb",
   "metadata": {},
   "source": [
    "### quit\n",
    "\n",
    "The `quit` command is not supported. When the kernel is shutdown the simulator will also be shutdown, making this command unnecessary, and likely to cause issues if supported. \n",
    "\n",
    "Try executing `quit` in the cell below."
   ]
  },
  {
   "cell_type": "code",
   "execution_count": null,
   "id": "473a044f-c6b4-4bca-9c12-baec361c43d0",
   "metadata": {
    "vscode": {
     "languageId": "lc3asm"
    }
   },
   "outputs": [],
   "source": [
    "quit"
   ]
  }
 ],
 "metadata": {
  "kernelspec": {
   "display_name": "LC-3",
   "language": "text",
   "name": "lc3"
  },
  "language_info": {
   "file_extension": ".asm",
   "mimetype": "text/plain",
   "name": "lc3"
  }
 },
 "nbformat": 4,
 "nbformat_minor": 5
}
